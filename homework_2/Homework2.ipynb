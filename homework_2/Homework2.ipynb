{
 "cells": [
  {
   "cell_type": "markdown",
   "metadata": {},
   "source": [
    "# Description\n",
    "Author: HE KAI LIM\n",
    "Course: MAE 263F (Flexible Structures and Soft Robots), UCLA Fall 2024\n",
    "\n",
    "This ipynb notebook is my submission for homework 2.\n",
    "\n",
    "The script is run from the local virtual environment.\n",
    "\n",
    "## Notes\n",
    "Use python black linter and formatter (https://code.visualstudio.com/docs/python/formatting)\n"
   ]
  },
  {
   "cell_type": "markdown",
   "metadata": {},
   "source": [
    "# Imports"
   ]
  },
  {
   "cell_type": "code",
   "execution_count": null,
   "metadata": {},
   "outputs": [],
   "source": [
    "# imports for python things\n",
    "import os\n",
    "\n",
    "# imports for numpy OR cupy\n",
    "cupy_active = False\n",
    "if not cupy_active:\n",
    "    import numpy as np\n",
    "else:\n",
    "    import cupy as np  # this is a drop-in replacement for numpy, that uses the GPU instead of CPU for speed. Go NVDIA Cude Cores!\n",
    "\n",
    "# Imports for plotting\n",
    "import matplotlib.pyplot as plt\n",
    "from mpl_toolkits.mplot3d import Axes3D\n",
    "from IPython.display import clear_output  # Only for iPython\n",
    "\n",
    "######## Helper Functions from Class\n",
    "import helper_imports as helper\n",
    "\n",
    "# If we want to run this script quietly without so many outputs, set to True.\n",
    "quiet_Run = False"
   ]
  }
 ],
 "metadata": {
  "kernelspec": {
   "display_name": ".venv",
   "language": "python",
   "name": "python3"
  },
  "language_info": {
   "name": "python",
   "version": "3.10.11"
  }
 },
 "nbformat": 4,
 "nbformat_minor": 2
}
