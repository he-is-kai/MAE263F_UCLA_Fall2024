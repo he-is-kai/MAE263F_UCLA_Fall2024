{
 "cells": [
  {
   "cell_type": "markdown",
   "metadata": {},
   "source": [
    "# Description\n",
    "Author: HE KAI LIM\n",
    "Course: MAE 263F (Flexible Structures and Soft Robots), UCLA Fall 2024\n",
    "\n",
    "This ipynb notebook is my submission for homework 2.\n",
    "\n",
    "The script is run from the local virtual environment.\n",
    "\n",
    "## Notes\n",
    "Use python black linter and formatter (https://code.visualstudio.com/docs/python/formatting)\n"
   ]
  },
  {
   "cell_type": "markdown",
   "metadata": {},
   "source": [
    "# Imports"
   ]
  },
  {
   "cell_type": "code",
   "execution_count": 2,
   "metadata": {},
   "outputs": [
    {
     "name": "stdout",
     "output_type": "stream",
     "text": [
      "hello script!\n"
     ]
    }
   ],
   "source": [
    "print('hello script!')"
   ]
  },
  {
   "cell_type": "code",
   "execution_count": 5,
   "metadata": {},
   "outputs": [],
   "source": [
    "# imports for python things\n",
    "import os\n",
    "\n",
    "# imports for numpy OR cupy\n",
    "cupy_active = False\n",
    "if not cupy_active:\n",
    "    import numpy as np\n",
    "else:\n",
    "    import cupy as np  # this is a drop-in replacement for numpy, that uses the GPU instead of CPU for speed. Go NVDIA Cude Cores!\n",
    "\n",
    "# Imports for plotting\n",
    "import matplotlib.pyplot as plt\n",
    "from mpl_toolkits.mplot3d import Axes3D\n",
    "from IPython.display import clear_output  # Only for iPython\n",
    "\n",
    "######## Helper Functions from Class\n",
    "# import helper_functions.helper_imports as helper\n",
    "import helper_functions as helper\n",
    "\n",
    "# If we want to run this script quietly without so many outputs, set to True.\n",
    "quiet_Run = False"
   ]
  },
  {
   "cell_type": "markdown",
   "metadata": {},
   "source": [
    "# Local Helper Functions"
   ]
  },
  {
   "cell_type": "code",
   "execution_count": null,
   "metadata": {},
   "outputs": [
    {
     "ename": "",
     "evalue": "",
     "output_type": "error",
     "traceback": [
      "\u001b[1;31mRunning cells with '.venv (Python 3.10.11)' requires the ipykernel package.\n",
      "\u001b[1;31mRun the following command to install 'ipykernel' into the Python environment. \n",
      "\u001b[1;31mCommand: '\"c:/Users/limhe/OneDrive/Documents/0_Classes UCLA/0_MAE 263F_Flexible Structures Soft Robots/MAE263F_UCLA_Fall2024/homework_2/.venv/Scripts/python.exe\" -m pip install ipykernel -U --force-reinstall'"
     ]
    }
   ],
   "source": [
    "# Function to set equal aspect ratio for 3D plots\n",
    "def set_axes_equal(ax):\n",
    "    \"\"\"\n",
    "    Set equal aspect ratio for a 3D plot in Matplotlib.\n",
    "    This function adjusts the limits of the plot to make sure\n",
    "    that the scale is equal along all three axes.\n",
    "    \"\"\"\n",
    "    x_limits = ax.get_xlim3d()\n",
    "    y_limits = ax.get_ylim3d()\n",
    "    z_limits = ax.get_zlim3d()\n",
    "\n",
    "    x_range = abs(x_limits[1] - x_limits[0])\n",
    "    y_range = abs(y_limits[1] - y_limits[0])\n",
    "    z_range = abs(z_limits[1] - z_limits[0])\n",
    "\n",
    "    max_range = max(x_range, y_range, z_range)\n",
    "\n",
    "    x_middle = np.mean(x_limits)\n",
    "    y_middle = np.mean(y_limits)\n",
    "    z_middle = np.mean(z_limits)\n",
    "\n",
    "    ax.set_xlim3d([x_middle - max_range / 2, x_middle + max_range / 2])\n",
    "    ax.set_ylim3d([y_middle - max_range / 2, y_middle + max_range / 2])\n",
    "    ax.set_zlim3d([z_middle - max_range / 2, z_middle + max_range / 2])"
   ]
  },
  {
   "cell_type": "code",
   "execution_count": null,
   "metadata": {},
   "outputs": [],
   "source": [
    "def plotrod(q, a1, a2, m1, m2, ctime):\n",
    "    \"\"\"\n",
    "    Function to plot the rod with the position and directors.\n",
    "\n",
    "    Parameters:\n",
    "    - q: Position vector (DOF vector).\n",
    "    - a1, a2: Reference frames (director vectors).\n",
    "    - m1, m2: Material directors.\n",
    "    - ctime: Current time for title.\n",
    "    \"\"\"\n",
    "\n",
    "    nv = (len(q) + 1) // 4\n",
    "    x1 = q[0::4]\n",
    "    x2 = q[1::4]\n",
    "    x3 = q[2::4]\n",
    "\n",
    "    # Compute the length of the rod\n",
    "    L = np.sum(np.sqrt((x1[1:] - x1[:-1])**2 +\n",
    "                       (x2[1:] - x2[:-1])**2 +\n",
    "                       (x3[1:] - x3[:-1])**2))\n",
    "\n",
    "    # Scale the director vectors by 0.1 * L\n",
    "    a1 *= 0.1 * L\n",
    "    a2 *= 0.1 * L\n",
    "    m1 *= 0.1 * L\n",
    "    m2 *= 0.1 * L\n",
    "\n",
    "    # Create figure and set up 3D plotting\n",
    "    fig = plt.figure(1)\n",
    "    clear_output()\n",
    "    plt.clf()  # Clear the figure\n",
    "    ax = fig.add_subplot(111, projection='3d')\n",
    "\n",
    "    # Plot the rod as black circles connected by lines\n",
    "    ax.plot3D(x1, x2, x3, 'ko-')\n",
    "\n",
    "    # Plot the first node with a red triangle\n",
    "    ax.plot3D([x1[0]], [x2[0]], [x3[0]], 'r^')\n",
    "\n",
    "    # Plot the directors along the rod\n",
    "    for c in range(nv - 1):\n",
    "        xa = q[4 * c : 4 * c + 3]\n",
    "        xb = q[4 * c + 4 : 4 * c + 7]\n",
    "        xp = (xa + xb) / 2  # Midpoint between xa and xb\n",
    "\n",
    "        # Plot the a1, a2, m1, m2 vectors at the midpoint\n",
    "        ax.plot3D([xp[0], xp[0] + a1[c, 0]], [xp[1], xp[1] + a1[c, 1]],\n",
    "                  [xp[2], xp[2] + a1[c, 2]], 'b--', linewidth=2)\n",
    "        ax.plot3D([xp[0], xp[0] + a2[c, 0]], [xp[1], xp[1] + a2[c, 1]],\n",
    "                  [xp[2], xp[2] + a2[c, 2]], 'c--', linewidth=2)\n",
    "        ax.plot3D([xp[0], xp[0] + m1[c, 0]], [xp[1], xp[1] + m1[c, 1]],\n",
    "                  [xp[2], xp[2] + m1[c, 2]], 'r-', linewidth=2)\n",
    "        ax.plot3D([xp[0], xp[0] + m2[c, 0]], [xp[1], xp[1] + m2[c, 1]],\n",
    "                  [xp[2], xp[2] + m2[c, 2]], 'g-', linewidth=2)\n",
    "\n",
    "    # Add legend\n",
    "    ax.legend(['a1', 'a2', 'm1', 'm2'])\n",
    "\n",
    "    # Set the title with current time\n",
    "    ax.set_title(f't={ctime:.2f}')\n",
    "\n",
    "    # Set axes labels\n",
    "    ax.set_xlabel('x')\n",
    "    ax.set_ylabel('y')\n",
    "    ax.set_zlabel('z')\n",
    "\n",
    "    # Set equal scaling using the custom function\n",
    "    set_axes_equal(ax)\n",
    "\n",
    "    plt.draw()  # Force a redraw of the figure\n",
    "    plt.show()"
   ]
  },
  {
   "cell_type": "code",
   "execution_count": null,
   "metadata": {},
   "outputs": [],
   "source": [
    "def plotrod_simple(q, ctime):\n",
    "    \"\"\"\n",
    "    Function to plot the rod with the position and directors.\n",
    "\n",
    "    Parameters:\n",
    "    - q: Position vector (DOF vector).\n",
    "    - ctime: Current time for title.\n",
    "    \"\"\"\n",
    "\n",
    "    x1 = q[0::4]\n",
    "    x2 = q[1::4]\n",
    "    x3 = q[2::4]\n",
    "\n",
    "    fig = plt.figure(1)\n",
    "    clear_output()\n",
    "    plt.clf()  # Clear the figure\n",
    "    ax = fig.add_subplot(111, projection='3d')\n",
    "\n",
    "    # Plot the rod as black circles connected by lines\n",
    "    ax.plot3D(x1, x2, x3, 'ko-')\n",
    "\n",
    "    # Plot the first node with a red triangle\n",
    "    ax.plot3D([x1[0]], [x2[0]], [x3[0]], 'r^')\n",
    "\n",
    "    # Set the title with current time\n",
    "    ax.set_title(f't={ctime:.2f}')\n",
    "\n",
    "    # Set axes labels\n",
    "    ax.set_xlabel('x')\n",
    "    ax.set_ylabel('y')\n",
    "    ax.set_zlabel('z')\n",
    "\n",
    "    # Set equal scaling and a 3D view\n",
    "    set_axes_equal(ax)\n",
    "    plt.draw()  # Force a redraw of the figure\n",
    "\n",
    "    plt.show()"
   ]
  },
  {
   "cell_type": "markdown",
   "metadata": {},
   "source": [
    "# Objective Function"
   ]
  },
  {
   "cell_type": "code",
   "execution_count": null,
   "metadata": {},
   "outputs": [],
   "source": []
  }
 ],
 "metadata": {
  "kernelspec": {
   "display_name": ".venv",
   "language": "python",
   "name": "python3"
  },
  "language_info": {
   "codemirror_mode": {
    "name": "ipython",
    "version": 3
   },
   "file_extension": ".py",
   "mimetype": "text/x-python",
   "name": "python",
   "nbconvert_exporter": "python",
   "pygments_lexer": "ipython3",
   "version": "3.10.11"
  }
 },
 "nbformat": 4,
 "nbformat_minor": 2
}
